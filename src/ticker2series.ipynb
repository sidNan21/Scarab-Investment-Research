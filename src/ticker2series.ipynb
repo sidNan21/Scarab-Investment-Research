{
 "cells": [
  {
   "cell_type": "code",
   "execution_count": 139,
   "metadata": {},
   "outputs": [],
   "source": [
    "import iexfinance.stocks as iex\n",
    "from datetime import datetime, timedelta\n",
    "import numpy as np\n",
    "import pandas as pd"
   ]
  },
  {
   "cell_type": "code",
   "execution_count": 140,
   "metadata": {},
   "outputs": [],
   "source": [
    "# Change as you please (note that by-minute data only includes past three months...)\n",
    "start_date = datetime(2015,12,31)\n",
    "end_date   = datetime(2019,3,2)\n",
    "\n",
    "# Simple function that returns respective time-series given a stock ticker\n",
    "def ticker_to_series(ticker='', sd=None, ed=None):\n",
    "    if ticker == '':\n",
    "        return\n",
    "    if sd is None or ed is None:\n",
    "        return\n",
    "    # Default list of dropped columns from iexfinance's data\n",
    "    to_drop = ['high', 'low', 'open', 'volume']\n",
    "    # Retrieve data\n",
    "    t_df = iex.get_historical_data(ticker, sd, ed, \n",
    "                                   output_format='pandas').drop(columns=to_drop)\n",
    "    return t_df\n",
    "\n",
    "# Similar functionality, but by the minute (up to last three months)\n",
    "def ticker_to_series_minute(ticker='', sd=None, ed=None):\n",
    "    if ticker == '':\n",
    "        return\n",
    "    # Default list of dropped columns from iexfinance's data\n",
    "    to_drop = ['high', 'low', 'open', 'volume', 'average', 'changeOverTime',\n",
    "               'date', 'label', 'marketAverage', 'marketChangeOverTime',\n",
    "               'marketClose', 'marketHigh', 'marketLow', 'marketNotional',\n",
    "               'marketNumberOfTrades', 'marketOpen', 'marketVolume', 'notional',\n",
    "               'numberOfTrades']\n",
    "    # By minute data only available for query on specific day input...\n",
    "    t_delt = ed - sd # calculate \"change in time\"\n",
    "    \n",
    "    # i = 0:\n",
    "    t_df = t2s_min_helper(ticker, sd)\n",
    "    # i > 0:\n",
    "    for i in range(1,t_delt.days+1):\n",
    "        t_df_i = t2s_min_helper(ticker, sd+timedelta(i))\n",
    "        t_df = t_df.append(t_df_i)\n",
    "    \n",
    "    return t_df.drop(columns=to_drop)\n",
    "\n",
    "# Helper function\n",
    "def t2s_min_helper(ticker, d):\n",
    "    # Retrieve data\n",
    "    t = iex.get_historical_intraday(ticker, d, output_format='pandas')\n",
    "    return t"
   ]
  },
  {
   "cell_type": "code",
   "execution_count": 141,
   "metadata": {},
   "outputs": [
    {
     "name": "stdout",
     "output_type": "stream",
     "text": [
      "(7410, 1)\n"
     ]
    },
    {
     "data": {
      "text/html": [
       "<div>\n",
       "<style scoped>\n",
       "    .dataframe tbody tr th:only-of-type {\n",
       "        vertical-align: middle;\n",
       "    }\n",
       "\n",
       "    .dataframe tbody tr th {\n",
       "        vertical-align: top;\n",
       "    }\n",
       "\n",
       "    .dataframe thead th {\n",
       "        text-align: right;\n",
       "    }\n",
       "</style>\n",
       "<table border=\"1\" class=\"dataframe\">\n",
       "  <thead>\n",
       "    <tr style=\"text-align: right;\">\n",
       "      <th></th>\n",
       "      <th>close</th>\n",
       "    </tr>\n",
       "  </thead>\n",
       "  <tbody>\n",
       "    <tr>\n",
       "      <th>2019-03-01 15:55:00</th>\n",
       "      <td>41.55</td>\n",
       "    </tr>\n",
       "    <tr>\n",
       "      <th>2019-03-01 15:56:00</th>\n",
       "      <td>41.53</td>\n",
       "    </tr>\n",
       "    <tr>\n",
       "      <th>2019-03-01 15:57:00</th>\n",
       "      <td>41.53</td>\n",
       "    </tr>\n",
       "    <tr>\n",
       "      <th>2019-03-01 15:58:00</th>\n",
       "      <td>41.56</td>\n",
       "    </tr>\n",
       "    <tr>\n",
       "      <th>2019-03-01 15:59:00</th>\n",
       "      <td>41.59</td>\n",
       "    </tr>\n",
       "  </tbody>\n",
       "</table>\n",
       "</div>"
      ],
      "text/plain": [
       "                     close\n",
       "2019-03-01 15:55:00  41.55\n",
       "2019-03-01 15:56:00  41.53\n",
       "2019-03-01 15:57:00  41.53\n",
       "2019-03-01 15:58:00  41.56\n",
       "2019-03-01 15:59:00  41.59"
      ]
     },
     "execution_count": 141,
     "metadata": {},
     "output_type": "execute_result"
    }
   ],
   "source": [
    "# Examples\n",
    "micron_byday = ticker_to_series('MU', start_date, end_date)\n",
    "micron_bymin = ticker_to_series_minute('MU', datetime(2019,2,4), end_date)\n",
    "\n",
    "print(micron_bymin.shape)\n",
    "micron_bymin.head()\n",
    "micron_bymin.tail()"
   ]
  },
  {
   "cell_type": "code",
   "execution_count": 142,
   "metadata": {},
   "outputs": [
    {
     "data": {
      "text/html": [
       "<iframe id=\"igraph\" scrolling=\"no\" style=\"border:none;\" seamless=\"seamless\" src=\"https://plot.ly/~cjk2bg/40.embed\" height=\"525px\" width=\"100%\"></iframe>"
      ],
      "text/plain": [
       "<plotly.tools.PlotlyDisplay object>"
      ]
     },
     "execution_count": 142,
     "metadata": {},
     "output_type": "execute_result"
    }
   ],
   "source": [
    "import plotly.plotly as py\n",
    "import plotly.graph_objs as go\n",
    "\n",
    "# Plotly sign-in\n",
    "py.sign_in('cjk2bg', 'UJ3eIEBVJEf5EXa8zxCb')\n",
    "\n",
    "data = [\n",
    "    go.Scatter(x=micron_bymin.index,\n",
    "               y=micron_bymin['close'])\n",
    "]\n",
    "layout = go.Layout(\n",
    "    title='Micron Technology (MU) Stock Price since February 4th, 2019',\n",
    "    xaxis=dict(type=\"category\", \n",
    "               showticklabels=False,\n",
    "               zeroline=True,\n",
    "               zerolinewidth=1),\n",
    "    yaxis=dict(zeroline=True,\n",
    "               zerolinewidth=1)\n",
    ")\n",
    "fig = go.Figure(data=data,layout=layout)\n",
    "\n",
    "py.iplot(fig)"
   ]
  }
 ],
 "metadata": {
  "kernelspec": {
   "display_name": "Python 3",
   "language": "python",
   "name": "python3"
  },
  "language_info": {
   "codemirror_mode": {
    "name": "ipython",
    "version": 3
   },
   "file_extension": ".py",
   "mimetype": "text/x-python",
   "name": "python",
   "nbconvert_exporter": "python",
   "pygments_lexer": "ipython3",
   "version": "3.7.2"
  }
 },
 "nbformat": 4,
 "nbformat_minor": 2
}
